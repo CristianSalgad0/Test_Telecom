{
 "cells": [
  {
   "cell_type": "markdown",
   "metadata": {
    "toc": true
   },
   "source": [
    "<h1>Table of Contents<span class=\"tocSkip\"></span></h1>\n",
    "<div class=\"toc\"><ul class=\"toc-item\"><li><span><a href=\"#Instructivo-del-Desafio\" data-toc-modified-id=\"Instructivo-del-Desafio-1\"><span class=\"toc-item-num\">1&nbsp;&nbsp;</span>Instructivo del Desafio</a></span></li><li><span><a href=\"#Setup\" data-toc-modified-id=\"Setup-2\"><span class=\"toc-item-num\">2&nbsp;&nbsp;</span>Setup</a></span></li><li><span><a href=\"#DATASETS\" data-toc-modified-id=\"DATASETS-3\"><span class=\"toc-item-num\">3&nbsp;&nbsp;</span>DATASETS</a></span></li><li><span><a href=\"#Limpiezas-necesarias-para-resolver\" data-toc-modified-id=\"Limpiezas-necesarias-para-resolver-4\"><span class=\"toc-item-num\">4&nbsp;&nbsp;</span>Limpiezas necesarias para resolver</a></span></li><li><span><a href=\"#Respuestas\" data-toc-modified-id=\"Respuestas-5\"><span class=\"toc-item-num\">5&nbsp;&nbsp;</span>Respuestas</a></span><ul class=\"toc-item\"><li><span><a href=\"#Crear-una-marca-en-caso-de-que-haya-cambiado-de-plan-en-alguno-de-los-tres-meses.-(subilo-al-repositorio-en-un-archivo-.csv)\" data-toc-modified-id=\"Crear-una-marca-en-caso-de-que-haya-cambiado-de-plan-en-alguno-de-los-tres-meses.-(subilo-al-repositorio-en-un-archivo-.csv)-5.1\"><span class=\"toc-item-num\">5.1&nbsp;&nbsp;</span>Crear una marca en caso de que haya cambiado de plan en alguno de los tres meses. (subilo al repositorio en un archivo .csv)</a></span><ul class=\"toc-item\"><li><span><a href=\"#Guardado-de-Respuesta\" data-toc-modified-id=\"Guardado-de-Respuesta-5.1.1\"><span class=\"toc-item-num\">5.1.1&nbsp;&nbsp;</span>Guardado de Respuesta</a></span></li></ul></li><li><span><a href=\"#Cuantos-clientes-que-se-encuentran-en-CABA-cambiaron-de-plan.\" data-toc-modified-id=\"Cuantos-clientes-que-se-encuentran-en-CABA-cambiaron-de-plan.-5.2\"><span class=\"toc-item-num\">5.2&nbsp;&nbsp;</span>Cuantos clientes que se encuentran en CABA cambiaron de plan.</a></span><ul class=\"toc-item\"><li><span><a href=\"#Respuesta\" data-toc-modified-id=\"Respuesta-5.2.1\"><span class=\"toc-item-num\">5.2.1&nbsp;&nbsp;</span>Respuesta</a></span></li></ul></li><li><span><a href=\"#Que-provincia-tiene-el-promedio-mensual-de-facturación-más-alta\" data-toc-modified-id=\"Que-provincia-tiene-el-promedio-mensual-de-facturación-más-alta-5.3\"><span class=\"toc-item-num\">5.3&nbsp;&nbsp;</span>Que provincia tiene el promedio mensual de facturación más alta</a></span><ul class=\"toc-item\"><li><span><a href=\"#Respuesta\" data-toc-modified-id=\"Respuesta-5.3.1\"><span class=\"toc-item-num\">5.3.1&nbsp;&nbsp;</span>Respuesta</a></span></li></ul></li></ul></li></ul></div>"
   ]
  },
  {
   "cell_type": "markdown",
   "metadata": {},
   "source": [
    "# Instructivo del Desafio"
   ]
  },
  {
   "cell_type": "markdown",
   "metadata": {},
   "source": [
    "En el link que se encuentra debajo vas a encontrar cuatro tablas que contienen: \n",
    "+ Cliente.csv : Nro_Cliente mes plan_mes ;\n",
    "+ Facturacion.csv: nro_cliente mes facturacion_mes \n",
    "+ llamadas.csv: Nro_cliente mes tipo_llamada Cantidad_Llamadas Duracion_Llamadas_minutos;\n",
    "+ Provincia: Nro_Cliente provincia\n",
    "\n",
    "https://drive.google.com/drive/folders/1YoDJTtHgTSlhmhtQPBCNoz32ntHhRDTv?usp=sharing \n",
    "\n",
    "Preguntas a Resolver:\n",
    "+ 1- Crear una marca en caso de que haya cambiado de plan en alguno de los tres meses. (subilo al repositorio en un archivo .csv)\n",
    "+ 2- Cuantos clientes que se encuentran en CABA cambiaron de plan.\n",
    "+ 3- Que provincia tiene el promedio mensual de facturación más alta\n",
    "\n"
   ]
  },
  {
   "cell_type": "markdown",
   "metadata": {},
   "source": [
    "# Setup"
   ]
  },
  {
   "cell_type": "code",
   "execution_count": null,
   "metadata": {},
   "outputs": [],
   "source": []
  },
  {
   "cell_type": "code",
   "execution_count": 148,
   "metadata": {},
   "outputs": [],
   "source": [
    "import pandas as pd\n",
    "pd.set_option('display.max_columns', 1000) # Show all columns when looking at dataframe\n",
    "pd.set_option('display.max_rows', 1000) # Show all rows when looking at dataframe\n",
    "pd.set_option('display.max_colwidth', 100000)\n"
   ]
  },
  {
   "cell_type": "code",
   "execution_count": 149,
   "metadata": {},
   "outputs": [],
   "source": [
    "# Feature dtypes  MISSING VALUES AND UNIQUE VALUES\n",
    "def df_summary(df):\n",
    "    '''\n",
    "    input the dataframe, and it will return a summary table with columns datails.\n",
    "    '''\n",
    "    #create a dataframe call summary\n",
    "    summary = pd.DataFrame(df.dtypes, columns=['dtype'])\n",
    "\n",
    "    # Number of Missing values (-1 count)\n",
    "    summary['num_missing'] = df.isna().sum().values    \n",
    "\n",
    "    # Number of unique values by features\n",
    "    summary['num_uniques'] = df.nunique().values\n",
    "    \n",
    "    return summary"
   ]
  },
  {
   "cell_type": "markdown",
   "metadata": {},
   "source": [
    "# DATASETS"
   ]
  },
  {
   "cell_type": "code",
   "execution_count": 173,
   "metadata": {},
   "outputs": [],
   "source": [
    "cliente = pd.read_csv('cliente.csv', delimiter = ';')\n",
    "facturacion = pd.read_csv('facturacion.csv', delimiter = ';')\n",
    "llamadas = pd.read_csv('llamadas.csv', delimiter = ';')\n",
    "provincia = pd.read_csv('provincia.csv', delimiter = ';' , encoding='latin-1')"
   ]
  },
  {
   "cell_type": "markdown",
   "metadata": {},
   "source": [
    "# Limpiezas necesarias para resolver"
   ]
  },
  {
   "cell_type": "code",
   "execution_count": 174,
   "metadata": {},
   "outputs": [
    {
     "data": {
      "text/plain": [
       "array(['Chaco', 'Santa Fe', 'Córdoba', 'Salta', 'Corrientes',\n",
       "       'Buenos Aires', 'Tierra Del Fuego', 'Tucumán',\n",
       "       'Ciudad Autónoma De Buenos Aire', 'Catamarca', 'Misiones',\n",
       "       'Entre Ríos', 'Ciudad Autonoma De Buenos Aire', 'Jujuy',\n",
       "       'Río Negro', 'Santiago Del Estero', 'La Rioja', 'San Juan',\n",
       "       'Formosa', 'Neuquén', 'Mendoza', 'San Luis', 'Cordoba',\n",
       "       'Santa Cruz', 'Entre Rios', 'Chubut', 'Tucuman', 'La Pampa'],\n",
       "      dtype=object)"
      ]
     },
     "execution_count": 174,
     "metadata": {},
     "output_type": "execute_result"
    }
   ],
   "source": [
    "provincia.provincia.unique()"
   ]
  },
  {
   "cell_type": "code",
   "execution_count": 175,
   "metadata": {},
   "outputs": [],
   "source": [
    "provincia['provincia'] = provincia['provincia'].replace('Ciudad Autonoma De Buenos Aire','Ciudad Autonóma De Buenos Aires')\n",
    "provincia['provincia'] = provincia['provincia'].replace('Ciudad Autónoma De Buenos Aire','Ciudad Autonóma De Buenos Aires')\n",
    "provincia['provincia'] = provincia['provincia'].replace('Cordoba','Córdoba')\n",
    "provincia['provincia'] = provincia['provincia'].replace('Tucuman','Tucumán')\n",
    "provincia['provincia'] = provincia['provincia'].replace('Entre Rios','Entre Ríos')"
   ]
  },
  {
   "cell_type": "code",
   "execution_count": 208,
   "metadata": {},
   "outputs": [
    {
     "data": {
      "text/html": [
       "<div>\n",
       "<style scoped>\n",
       "    .dataframe tbody tr th:only-of-type {\n",
       "        vertical-align: middle;\n",
       "    }\n",
       "\n",
       "    .dataframe tbody tr th {\n",
       "        vertical-align: top;\n",
       "    }\n",
       "\n",
       "    .dataframe thead th {\n",
       "        text-align: right;\n",
       "    }\n",
       "</style>\n",
       "<table border=\"1\" class=\"dataframe\">\n",
       "  <thead>\n",
       "    <tr style=\"text-align: right;\">\n",
       "      <th></th>\n",
       "      <th>dtype</th>\n",
       "      <th>num_missing</th>\n",
       "      <th>num_uniques</th>\n",
       "    </tr>\n",
       "  </thead>\n",
       "  <tbody>\n",
       "    <tr>\n",
       "      <th>provincia</th>\n",
       "      <td>object</td>\n",
       "      <td>0</td>\n",
       "      <td>24</td>\n",
       "    </tr>\n",
       "    <tr>\n",
       "      <th>nro_cliente</th>\n",
       "      <td>int64</td>\n",
       "      <td>0</td>\n",
       "      <td>10900</td>\n",
       "    </tr>\n",
       "  </tbody>\n",
       "</table>\n",
       "</div>"
      ],
      "text/plain": [
       "              dtype  num_missing  num_uniques\n",
       "provincia    object            0           24\n",
       "nro_cliente   int64            0        10900"
      ]
     },
     "execution_count": 208,
     "metadata": {},
     "output_type": "execute_result"
    }
   ],
   "source": [
    "df_summary(provincia)"
   ]
  },
  {
   "cell_type": "code",
   "execution_count": 209,
   "metadata": {},
   "outputs": [
    {
     "data": {
      "text/html": [
       "<div>\n",
       "<style scoped>\n",
       "    .dataframe tbody tr th:only-of-type {\n",
       "        vertical-align: middle;\n",
       "    }\n",
       "\n",
       "    .dataframe tbody tr th {\n",
       "        vertical-align: top;\n",
       "    }\n",
       "\n",
       "    .dataframe thead th {\n",
       "        text-align: right;\n",
       "    }\n",
       "</style>\n",
       "<table border=\"1\" class=\"dataframe\">\n",
       "  <thead>\n",
       "    <tr style=\"text-align: right;\">\n",
       "      <th></th>\n",
       "      <th>dtype</th>\n",
       "      <th>num_missing</th>\n",
       "      <th>num_uniques</th>\n",
       "    </tr>\n",
       "  </thead>\n",
       "  <tbody>\n",
       "    <tr>\n",
       "      <th>facturacion</th>\n",
       "      <td>float64</td>\n",
       "      <td>0</td>\n",
       "      <td>2851</td>\n",
       "    </tr>\n",
       "    <tr>\n",
       "      <th>nro_cliente</th>\n",
       "      <td>int64</td>\n",
       "      <td>0</td>\n",
       "      <td>10900</td>\n",
       "    </tr>\n",
       "    <tr>\n",
       "      <th>mes</th>\n",
       "      <td>int64</td>\n",
       "      <td>0</td>\n",
       "      <td>3</td>\n",
       "    </tr>\n",
       "  </tbody>\n",
       "</table>\n",
       "</div>"
      ],
      "text/plain": [
       "               dtype  num_missing  num_uniques\n",
       "facturacion  float64            0         2851\n",
       "nro_cliente    int64            0        10900\n",
       "mes            int64            0            3"
      ]
     },
     "execution_count": 209,
     "metadata": {},
     "output_type": "execute_result"
    }
   ],
   "source": [
    "df_summary(facturacion)"
   ]
  },
  {
   "cell_type": "code",
   "execution_count": 210,
   "metadata": {},
   "outputs": [
    {
     "data": {
      "text/html": [
       "<div>\n",
       "<style scoped>\n",
       "    .dataframe tbody tr th:only-of-type {\n",
       "        vertical-align: middle;\n",
       "    }\n",
       "\n",
       "    .dataframe tbody tr th {\n",
       "        vertical-align: top;\n",
       "    }\n",
       "\n",
       "    .dataframe thead th {\n",
       "        text-align: right;\n",
       "    }\n",
       "</style>\n",
       "<table border=\"1\" class=\"dataframe\">\n",
       "  <thead>\n",
       "    <tr style=\"text-align: right;\">\n",
       "      <th></th>\n",
       "      <th>dtype</th>\n",
       "      <th>num_missing</th>\n",
       "      <th>num_uniques</th>\n",
       "    </tr>\n",
       "  </thead>\n",
       "  <tbody>\n",
       "    <tr>\n",
       "      <th>Plan_mes</th>\n",
       "      <td>int64</td>\n",
       "      <td>0</td>\n",
       "      <td>196</td>\n",
       "    </tr>\n",
       "    <tr>\n",
       "      <th>mes</th>\n",
       "      <td>int64</td>\n",
       "      <td>0</td>\n",
       "      <td>3</td>\n",
       "    </tr>\n",
       "    <tr>\n",
       "      <th>nro_cliente</th>\n",
       "      <td>int64</td>\n",
       "      <td>0</td>\n",
       "      <td>10900</td>\n",
       "    </tr>\n",
       "    <tr>\n",
       "      <th>cambio_de_plan</th>\n",
       "      <td>int32</td>\n",
       "      <td>0</td>\n",
       "      <td>2</td>\n",
       "    </tr>\n",
       "  </tbody>\n",
       "</table>\n",
       "</div>"
      ],
      "text/plain": [
       "                dtype  num_missing  num_uniques\n",
       "Plan_mes        int64            0          196\n",
       "mes             int64            0            3\n",
       "nro_cliente     int64            0        10900\n",
       "cambio_de_plan  int32            0            2"
      ]
     },
     "execution_count": 210,
     "metadata": {},
     "output_type": "execute_result"
    }
   ],
   "source": [
    "df_summary(cliente)"
   ]
  },
  {
   "cell_type": "code",
   "execution_count": 211,
   "metadata": {},
   "outputs": [
    {
     "data": {
      "text/html": [
       "<div>\n",
       "<style scoped>\n",
       "    .dataframe tbody tr th:only-of-type {\n",
       "        vertical-align: middle;\n",
       "    }\n",
       "\n",
       "    .dataframe tbody tr th {\n",
       "        vertical-align: top;\n",
       "    }\n",
       "\n",
       "    .dataframe thead th {\n",
       "        text-align: right;\n",
       "    }\n",
       "</style>\n",
       "<table border=\"1\" class=\"dataframe\">\n",
       "  <thead>\n",
       "    <tr style=\"text-align: right;\">\n",
       "      <th></th>\n",
       "      <th>dtype</th>\n",
       "      <th>num_missing</th>\n",
       "      <th>num_uniques</th>\n",
       "    </tr>\n",
       "  </thead>\n",
       "  <tbody>\n",
       "    <tr>\n",
       "      <th>Cantidad_Llamadas</th>\n",
       "      <td>int64</td>\n",
       "      <td>0</td>\n",
       "      <td>30</td>\n",
       "    </tr>\n",
       "    <tr>\n",
       "      <th>Duracion_Llamadas_minutos</th>\n",
       "      <td>int64</td>\n",
       "      <td>0</td>\n",
       "      <td>727</td>\n",
       "    </tr>\n",
       "    <tr>\n",
       "      <th>nro_cliente</th>\n",
       "      <td>int64</td>\n",
       "      <td>0</td>\n",
       "      <td>1191</td>\n",
       "    </tr>\n",
       "    <tr>\n",
       "      <th>mes</th>\n",
       "      <td>int64</td>\n",
       "      <td>0</td>\n",
       "      <td>3</td>\n",
       "    </tr>\n",
       "    <tr>\n",
       "      <th>tipo_llamada</th>\n",
       "      <td>object</td>\n",
       "      <td>0</td>\n",
       "      <td>2</td>\n",
       "    </tr>\n",
       "  </tbody>\n",
       "</table>\n",
       "</div>"
      ],
      "text/plain": [
       "                            dtype  num_missing  num_uniques\n",
       "Cantidad_Llamadas           int64            0           30\n",
       "Duracion_Llamadas_minutos   int64            0          727\n",
       "nro_cliente                 int64            0         1191\n",
       "mes                         int64            0            3\n",
       "tipo_llamada               object            0            2"
      ]
     },
     "execution_count": 211,
     "metadata": {},
     "output_type": "execute_result"
    }
   ],
   "source": [
    "df_summary(llamadas)"
   ]
  },
  {
   "cell_type": "markdown",
   "metadata": {},
   "source": [
    "# Respuestas"
   ]
  },
  {
   "cell_type": "markdown",
   "metadata": {},
   "source": [
    "## Crear una marca en caso de que haya cambiado de plan en alguno de los tres meses. (subilo al repositorio en un archivo .csv)"
   ]
  },
  {
   "cell_type": "code",
   "execution_count": 176,
   "metadata": {},
   "outputs": [
    {
     "data": {
      "text/html": [
       "<div>\n",
       "<style scoped>\n",
       "    .dataframe tbody tr th:only-of-type {\n",
       "        vertical-align: middle;\n",
       "    }\n",
       "\n",
       "    .dataframe tbody tr th {\n",
       "        vertical-align: top;\n",
       "    }\n",
       "\n",
       "    .dataframe thead th {\n",
       "        text-align: right;\n",
       "    }\n",
       "</style>\n",
       "<table border=\"1\" class=\"dataframe\">\n",
       "  <thead>\n",
       "    <tr style=\"text-align: right;\">\n",
       "      <th></th>\n",
       "      <th>Plan_mes</th>\n",
       "      <th>mes</th>\n",
       "      <th>nro_cliente</th>\n",
       "    </tr>\n",
       "  </thead>\n",
       "  <tbody>\n",
       "    <tr>\n",
       "      <th>0</th>\n",
       "      <td>95729</td>\n",
       "      <td>1</td>\n",
       "      <td>1</td>\n",
       "    </tr>\n",
       "    <tr>\n",
       "      <th>13235</th>\n",
       "      <td>95729</td>\n",
       "      <td>2</td>\n",
       "      <td>1</td>\n",
       "    </tr>\n",
       "    <tr>\n",
       "      <th>21718</th>\n",
       "      <td>96810</td>\n",
       "      <td>3</td>\n",
       "      <td>1</td>\n",
       "    </tr>\n",
       "    <tr>\n",
       "      <th>2</th>\n",
       "      <td>96400</td>\n",
       "      <td>1</td>\n",
       "      <td>2</td>\n",
       "    </tr>\n",
       "    <tr>\n",
       "      <th>13236</th>\n",
       "      <td>96400</td>\n",
       "      <td>2</td>\n",
       "      <td>2</td>\n",
       "    </tr>\n",
       "  </tbody>\n",
       "</table>\n",
       "</div>"
      ],
      "text/plain": [
       "       Plan_mes  mes  nro_cliente\n",
       "0         95729    1            1\n",
       "13235     95729    2            1\n",
       "21718     96810    3            1\n",
       "2         96400    1            2\n",
       "13236     96400    2            2"
      ]
     },
     "execution_count": 176,
     "metadata": {},
     "output_type": "execute_result"
    }
   ],
   "source": [
    "cliente = cliente.sort_values(by=['nro_cliente','mes'], ascending=True)\n",
    "cliente.head(5)"
   ]
  },
  {
   "cell_type": "code",
   "execution_count": 177,
   "metadata": {},
   "outputs": [],
   "source": [
    "#Creo Flag\n",
    "cliente['cambio_de_plan'] = cliente.groupby(\"nro_cliente\")[\"Plan_mes\"].shift().bfill().ne(cliente['Plan_mes']).astype(int)"
   ]
  },
  {
   "cell_type": "code",
   "execution_count": 178,
   "metadata": {},
   "outputs": [
    {
     "data": {
      "text/html": [
       "<div>\n",
       "<style scoped>\n",
       "    .dataframe tbody tr th:only-of-type {\n",
       "        vertical-align: middle;\n",
       "    }\n",
       "\n",
       "    .dataframe tbody tr th {\n",
       "        vertical-align: top;\n",
       "    }\n",
       "\n",
       "    .dataframe thead th {\n",
       "        text-align: right;\n",
       "    }\n",
       "</style>\n",
       "<table border=\"1\" class=\"dataframe\">\n",
       "  <thead>\n",
       "    <tr style=\"text-align: right;\">\n",
       "      <th></th>\n",
       "      <th>Plan_mes</th>\n",
       "      <th>mes</th>\n",
       "      <th>nro_cliente</th>\n",
       "      <th>cambio_de_plan</th>\n",
       "    </tr>\n",
       "  </thead>\n",
       "  <tbody>\n",
       "    <tr>\n",
       "      <th>0</th>\n",
       "      <td>95729</td>\n",
       "      <td>1</td>\n",
       "      <td>1</td>\n",
       "      <td>0</td>\n",
       "    </tr>\n",
       "    <tr>\n",
       "      <th>13235</th>\n",
       "      <td>95729</td>\n",
       "      <td>2</td>\n",
       "      <td>1</td>\n",
       "      <td>0</td>\n",
       "    </tr>\n",
       "    <tr>\n",
       "      <th>21718</th>\n",
       "      <td>96810</td>\n",
       "      <td>3</td>\n",
       "      <td>1</td>\n",
       "      <td>1</td>\n",
       "    </tr>\n",
       "    <tr>\n",
       "      <th>2</th>\n",
       "      <td>96400</td>\n",
       "      <td>1</td>\n",
       "      <td>2</td>\n",
       "      <td>0</td>\n",
       "    </tr>\n",
       "    <tr>\n",
       "      <th>13236</th>\n",
       "      <td>96400</td>\n",
       "      <td>2</td>\n",
       "      <td>2</td>\n",
       "      <td>0</td>\n",
       "    </tr>\n",
       "    <tr>\n",
       "      <th>21720</th>\n",
       "      <td>96400</td>\n",
       "      <td>3</td>\n",
       "      <td>2</td>\n",
       "      <td>0</td>\n",
       "    </tr>\n",
       "    <tr>\n",
       "      <th>1</th>\n",
       "      <td>96410</td>\n",
       "      <td>1</td>\n",
       "      <td>3</td>\n",
       "      <td>0</td>\n",
       "    </tr>\n",
       "    <tr>\n",
       "      <th>13237</th>\n",
       "      <td>96410</td>\n",
       "      <td>2</td>\n",
       "      <td>3</td>\n",
       "      <td>0</td>\n",
       "    </tr>\n",
       "    <tr>\n",
       "      <th>21719</th>\n",
       "      <td>96410</td>\n",
       "      <td>3</td>\n",
       "      <td>3</td>\n",
       "      <td>0</td>\n",
       "    </tr>\n",
       "    <tr>\n",
       "      <th>4</th>\n",
       "      <td>95420</td>\n",
       "      <td>1</td>\n",
       "      <td>4</td>\n",
       "      <td>0</td>\n",
       "    </tr>\n",
       "    <tr>\n",
       "      <th>13239</th>\n",
       "      <td>96413</td>\n",
       "      <td>2</td>\n",
       "      <td>4</td>\n",
       "      <td>1</td>\n",
       "    </tr>\n",
       "    <tr>\n",
       "      <th>21721</th>\n",
       "      <td>96413</td>\n",
       "      <td>3</td>\n",
       "      <td>4</td>\n",
       "      <td>0</td>\n",
       "    </tr>\n",
       "    <tr>\n",
       "      <th>3</th>\n",
       "      <td>95729</td>\n",
       "      <td>1</td>\n",
       "      <td>5</td>\n",
       "      <td>0</td>\n",
       "    </tr>\n",
       "    <tr>\n",
       "      <th>13238</th>\n",
       "      <td>96810</td>\n",
       "      <td>2</td>\n",
       "      <td>5</td>\n",
       "      <td>1</td>\n",
       "    </tr>\n",
       "    <tr>\n",
       "      <th>21722</th>\n",
       "      <td>96810</td>\n",
       "      <td>3</td>\n",
       "      <td>5</td>\n",
       "      <td>0</td>\n",
       "    </tr>\n",
       "    <tr>\n",
       "      <th>5</th>\n",
       "      <td>96409</td>\n",
       "      <td>1</td>\n",
       "      <td>6</td>\n",
       "      <td>0</td>\n",
       "    </tr>\n",
       "    <tr>\n",
       "      <th>13240</th>\n",
       "      <td>96409</td>\n",
       "      <td>2</td>\n",
       "      <td>6</td>\n",
       "      <td>0</td>\n",
       "    </tr>\n",
       "    <tr>\n",
       "      <th>21723</th>\n",
       "      <td>96810</td>\n",
       "      <td>3</td>\n",
       "      <td>6</td>\n",
       "      <td>1</td>\n",
       "    </tr>\n",
       "    <tr>\n",
       "      <th>7</th>\n",
       "      <td>95982</td>\n",
       "      <td>1</td>\n",
       "      <td>7</td>\n",
       "      <td>0</td>\n",
       "    </tr>\n",
       "    <tr>\n",
       "      <th>13262</th>\n",
       "      <td>95982</td>\n",
       "      <td>2</td>\n",
       "      <td>7</td>\n",
       "      <td>0</td>\n",
       "    </tr>\n",
       "    <tr>\n",
       "      <th>21724</th>\n",
       "      <td>95982</td>\n",
       "      <td>3</td>\n",
       "      <td>7</td>\n",
       "      <td>0</td>\n",
       "    </tr>\n",
       "    <tr>\n",
       "      <th>6</th>\n",
       "      <td>94497</td>\n",
       "      <td>1</td>\n",
       "      <td>8</td>\n",
       "      <td>0</td>\n",
       "    </tr>\n",
       "    <tr>\n",
       "      <th>13263</th>\n",
       "      <td>97120</td>\n",
       "      <td>2</td>\n",
       "      <td>8</td>\n",
       "      <td>1</td>\n",
       "    </tr>\n",
       "    <tr>\n",
       "      <th>21725</th>\n",
       "      <td>97120</td>\n",
       "      <td>3</td>\n",
       "      <td>8</td>\n",
       "      <td>0</td>\n",
       "    </tr>\n",
       "    <tr>\n",
       "      <th>8</th>\n",
       "      <td>96262</td>\n",
       "      <td>1</td>\n",
       "      <td>9</td>\n",
       "      <td>0</td>\n",
       "    </tr>\n",
       "  </tbody>\n",
       "</table>\n",
       "</div>"
      ],
      "text/plain": [
       "       Plan_mes  mes  nro_cliente  cambio_de_plan\n",
       "0         95729    1            1               0\n",
       "13235     95729    2            1               0\n",
       "21718     96810    3            1               1\n",
       "2         96400    1            2               0\n",
       "13236     96400    2            2               0\n",
       "21720     96400    3            2               0\n",
       "1         96410    1            3               0\n",
       "13237     96410    2            3               0\n",
       "21719     96410    3            3               0\n",
       "4         95420    1            4               0\n",
       "13239     96413    2            4               1\n",
       "21721     96413    3            4               0\n",
       "3         95729    1            5               0\n",
       "13238     96810    2            5               1\n",
       "21722     96810    3            5               0\n",
       "5         96409    1            6               0\n",
       "13240     96409    2            6               0\n",
       "21723     96810    3            6               1\n",
       "7         95982    1            7               0\n",
       "13262     95982    2            7               0\n",
       "21724     95982    3            7               0\n",
       "6         94497    1            8               0\n",
       "13263     97120    2            8               1\n",
       "21725     97120    3            8               0\n",
       "8         96262    1            9               0"
      ]
     },
     "execution_count": 178,
     "metadata": {},
     "output_type": "execute_result"
    }
   ],
   "source": [
    "#Control\n",
    "cliente.head(25)"
   ]
  },
  {
   "cell_type": "markdown",
   "metadata": {},
   "source": [
    "### Guardado de Respuesta"
   ]
  },
  {
   "cell_type": "code",
   "execution_count": 158,
   "metadata": {},
   "outputs": [],
   "source": [
    "cliente.to_csv(\"Respuesta_1.csv\", index = False)"
   ]
  },
  {
   "cell_type": "markdown",
   "metadata": {},
   "source": [
    "##  Cuantos clientes que se encuentran en CABA cambiaron de plan."
   ]
  },
  {
   "cell_type": "code",
   "execution_count": 179,
   "metadata": {},
   "outputs": [],
   "source": [
    "df = pd.merge(cliente, provincia,\n",
    "                  on='nro_cliente')\n"
   ]
  },
  {
   "cell_type": "code",
   "execution_count": 186,
   "metadata": {},
   "outputs": [
    {
     "data": {
      "text/plain": [
       "provincia\n",
       "Buenos Aires                       1624\n",
       "Catamarca                            80\n",
       "Chaco                               266\n",
       "Chubut                                7\n",
       "Ciudad Autonóma De Buenos Aires     731\n",
       "Corrientes                          219\n",
       "Córdoba                             651\n",
       "Entre Ríos                          225\n",
       "Formosa                             110\n",
       "Jujuy                               181\n",
       "La Pampa                              2\n",
       "La Rioja                             70\n",
       "Mendoza                              93\n",
       "Misiones                            265\n",
       "Neuquén                              15\n",
       "Río Negro                            17\n",
       "Salta                               285\n",
       "San Juan                             56\n",
       "San Luis                             12\n",
       "Santa Cruz                            8\n",
       "Santa Fe                            587\n",
       "Santiago Del Estero                 205\n",
       "Tierra Del Fuego                      5\n",
       "Tucumán                             356\n",
       "Name: cambio_de_plan, dtype: int32"
      ]
     },
     "execution_count": 186,
     "metadata": {},
     "output_type": "execute_result"
    }
   ],
   "source": [
    "Cambio_Plan_Por_Provincia = df.groupby('provincia')['cambio_de_plan'].sum()\n",
    "Cambio_Plan_Por_Provincia"
   ]
  },
  {
   "cell_type": "markdown",
   "metadata": {},
   "source": [
    "### Respuesta "
   ]
  },
  {
   "cell_type": "raw",
   "metadata": {},
   "source": [
    "En CABA cambiaron de Plan 731 Clientes en alguno de los tres meses"
   ]
  },
  {
   "cell_type": "markdown",
   "metadata": {},
   "source": [
    "##  Que provincia tiene el promedio mensual de facturación más alta"
   ]
  },
  {
   "cell_type": "code",
   "execution_count": 191,
   "metadata": {},
   "outputs": [],
   "source": [
    "df1 = pd.merge(facturacion, provincia,\n",
    "                  on='nro_cliente')\n"
   ]
  },
  {
   "cell_type": "code",
   "execution_count": 193,
   "metadata": {},
   "outputs": [
    {
     "data": {
      "text/html": [
       "<div>\n",
       "<style scoped>\n",
       "    .dataframe tbody tr th:only-of-type {\n",
       "        vertical-align: middle;\n",
       "    }\n",
       "\n",
       "    .dataframe tbody tr th {\n",
       "        vertical-align: top;\n",
       "    }\n",
       "\n",
       "    .dataframe thead th {\n",
       "        text-align: right;\n",
       "    }\n",
       "</style>\n",
       "<table border=\"1\" class=\"dataframe\">\n",
       "  <thead>\n",
       "    <tr style=\"text-align: right;\">\n",
       "      <th></th>\n",
       "      <th>facturacion</th>\n",
       "      <th>nro_cliente</th>\n",
       "      <th>mes</th>\n",
       "      <th>provincia</th>\n",
       "    </tr>\n",
       "  </thead>\n",
       "  <tbody>\n",
       "    <tr>\n",
       "      <th>12886</th>\n",
       "      <td>409.9789</td>\n",
       "      <td>4296</td>\n",
       "      <td>2</td>\n",
       "      <td>Santiago Del Estero</td>\n",
       "    </tr>\n",
       "    <tr>\n",
       "      <th>15486</th>\n",
       "      <td>409.9789</td>\n",
       "      <td>5163</td>\n",
       "      <td>1</td>\n",
       "      <td>Misiones</td>\n",
       "    </tr>\n",
       "    <tr>\n",
       "      <th>7702</th>\n",
       "      <td>393.9013</td>\n",
       "      <td>2568</td>\n",
       "      <td>2</td>\n",
       "      <td>Santa Cruz</td>\n",
       "    </tr>\n",
       "    <tr>\n",
       "      <th>32628</th>\n",
       "      <td>339.5750</td>\n",
       "      <td>10877</td>\n",
       "      <td>1</td>\n",
       "      <td>Misiones</td>\n",
       "    </tr>\n",
       "    <tr>\n",
       "      <th>24421</th>\n",
       "      <td>409.9789</td>\n",
       "      <td>8141</td>\n",
       "      <td>2</td>\n",
       "      <td>Ciudad Autonóma De Buenos Aires</td>\n",
       "    </tr>\n",
       "  </tbody>\n",
       "</table>\n",
       "</div>"
      ],
      "text/plain": [
       "       facturacion  nro_cliente  mes                        provincia\n",
       "12886     409.9789         4296    2              Santiago Del Estero\n",
       "15486     409.9789         5163    1                         Misiones\n",
       "7702      393.9013         2568    2                       Santa Cruz\n",
       "32628     339.5750        10877    1                         Misiones\n",
       "24421     409.9789         8141    2  Ciudad Autonóma De Buenos Aires"
      ]
     },
     "execution_count": 193,
     "metadata": {},
     "output_type": "execute_result"
    }
   ],
   "source": [
    "df1.sample(5)"
   ]
  },
  {
   "cell_type": "code",
   "execution_count": 205,
   "metadata": {},
   "outputs": [
    {
     "data": {
      "text/plain": [
       "provincia\n",
       "Santiago Del Estero                483.480753\n",
       "Jujuy                              484.135215\n",
       "San Luis                           485.130199\n",
       "Misiones                           485.319631\n",
       "Salta                              488.216036\n",
       "Formosa                            489.255902\n",
       "San Juan                           490.284235\n",
       "Mendoza                            493.754622\n",
       "Chaco                              500.190710\n",
       "Tucumán                            507.036331\n",
       "Catamarca                          511.565563\n",
       "Buenos Aires                       513.593041\n",
       "Santa Cruz                         519.226131\n",
       "Corrientes                         522.017730\n",
       "Entre Ríos                         529.341842\n",
       "Córdoba                            535.527206\n",
       "Chubut                             551.167236\n",
       "Santa Fe                           552.297424\n",
       "Neuquén                            572.055213\n",
       "La Pampa                           577.518133\n",
       "La Rioja                           591.534447\n",
       "Ciudad Autonóma De Buenos Aires    606.174212\n",
       "Río Negro                          639.628144\n",
       "Tierra Del Fuego                   658.833158\n",
       "Name: facturacion, dtype: float64"
      ]
     },
     "execution_count": 205,
     "metadata": {},
     "output_type": "execute_result"
    }
   ],
   "source": [
    "df1.groupby('provincia')['facturacion'].mean().sort_values()\n",
    "\n"
   ]
  },
  {
   "cell_type": "markdown",
   "metadata": {},
   "source": [
    "### Respuesta"
   ]
  },
  {
   "cell_type": "raw",
   "metadata": {},
   "source": [
    "La provincia que tiene el promedio mensual de Facturacion mas Alta es TIERRA DEL FUEGO CON $658.83"
   ]
  }
 ],
 "metadata": {
  "kernelspec": {
   "display_name": "Python 3",
   "language": "python",
   "name": "python3"
  },
  "language_info": {
   "codemirror_mode": {
    "name": "ipython",
    "version": 3
   },
   "file_extension": ".py",
   "mimetype": "text/x-python",
   "name": "python",
   "nbconvert_exporter": "python",
   "pygments_lexer": "ipython3",
   "version": "3.8.3"
  },
  "toc": {
   "base_numbering": 1,
   "nav_menu": {},
   "number_sections": true,
   "sideBar": true,
   "skip_h1_title": false,
   "title_cell": "Table of Contents",
   "title_sidebar": "Contents",
   "toc_cell": true,
   "toc_position": {
    "height": "calc(100% - 180px)",
    "left": "10px",
    "top": "150px",
    "width": "265.188px"
   },
   "toc_section_display": true,
   "toc_window_display": true
  },
  "varInspector": {
   "cols": {
    "lenName": 16,
    "lenType": 16,
    "lenVar": 40
   },
   "kernels_config": {
    "python": {
     "delete_cmd_postfix": "",
     "delete_cmd_prefix": "del ",
     "library": "var_list.py",
     "varRefreshCmd": "print(var_dic_list())"
    },
    "r": {
     "delete_cmd_postfix": ") ",
     "delete_cmd_prefix": "rm(",
     "library": "var_list.r",
     "varRefreshCmd": "cat(var_dic_list()) "
    }
   },
   "types_to_exclude": [
    "module",
    "function",
    "builtin_function_or_method",
    "instance",
    "_Feature"
   ],
   "window_display": false
  }
 },
 "nbformat": 4,
 "nbformat_minor": 4
}
